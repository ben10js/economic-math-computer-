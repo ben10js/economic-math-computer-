{
 "cells": [
  {
   "cell_type": "code",
   "execution_count": 2,
   "id": "fa717753",
   "metadata": {},
   "outputs": [
    {
     "name": "stdout",
     "output_type": "stream",
     "text": [
      "flour_marginal_utility= 3.33333329999995\n",
      "sugar_marginal_utility= 0.0\n",
      "butter_marginal_utility= 10.0\n"
     ]
    }
   ],
   "source": [
    "#economic math class - slid 4th lecture note - Baker's problem; Constrained Maxmization - marginal profit calcurator\n",
    "#resource: https://realpython.com/linear-programming-python/#using-scipy\n",
    "\n",
    "import numpy as np\n",
    "from scipy.optimize import linprog\n",
    "\n",
    "#목적식 - profit eq\n",
    "obj = [-20, -30] \n",
    "\n",
    "#사용가능자원 연립부등식(좌변 with_변수) - left resource eq \n",
    "lhs_ineq = [[3, 6],\n",
    "            [1, 0.5],\n",
    "            [1, 1]]\n",
    "\n",
    "#사용가능자원 연립부등식(우변) - right resource eq\n",
    "rhs_ineq = [150,\n",
    "           22,\n",
    "           27.5]\n",
    "\n",
    "#linear program - function\n",
    "opt = linprog(c=obj, A_ub=lhs_ineq, b_ub=rhs_ineq, method=\"revised simplex\")\n",
    "\n",
    "\n",
    "#결과도출 후, 투입자원 한단위씩 올려주면서 - marginal profit 계산한 결과\n",
    "origin_profit = np.array([ 5. , 22.5])\n",
    "\n",
    "flour_marginal_add = np.array([ 4.66666667, 22.83333333]) \n",
    "sugar_marginal_add = np.array([ 5. , 22.5])\n",
    "butter_marginal_add = np.array([ 7. , 21.5])\n",
    "    \n",
    "pocket = [flour_marginal_add, sugar_marginal_add, butter_marginal_add]\n",
    "\n",
    "for material, profit_point in zip(['flour', 'sugar', 'butter'], pocket):\n",
    "    change = profit_point - origin_profit\n",
    "    marginal_utility = np.array(change[0]*20 + change[1]*30)\n",
    "    print(material+'_marginal_utility=', marginal_utility)\n",
    "    \n",
    "#이제 이것들을 목적식에 넣고 final max profit을 도출해내면 됨. "
   ]
  },
  {
   "cell_type": "code",
   "execution_count": null,
   "id": "2fc6e48f",
   "metadata": {},
   "outputs": [],
   "source": []
  }
 ],
 "metadata": {
  "kernelspec": {
   "display_name": "Python 3",
   "language": "python",
   "name": "python3"
  },
  "language_info": {
   "codemirror_mode": {
    "name": "ipython",
    "version": 3
   },
   "file_extension": ".py",
   "mimetype": "text/x-python",
   "name": "python",
   "nbconvert_exporter": "python",
   "pygments_lexer": "ipython3",
   "version": "3.8.8"
  }
 },
 "nbformat": 4,
 "nbformat_minor": 5
}
